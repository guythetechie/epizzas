{
 "cells": [
  {
   "cell_type": "markdown",
   "metadata": {},
   "source": [
    "# Configure Entra app registration"
   ]
  },
  {
   "cell_type": "markdown",
   "metadata": {},
   "source": [
    "## Install Graph modules"
   ]
  },
  {
   "cell_type": "code",
   "execution_count": 4,
   "metadata": {
    "dotnet_interactive": {
     "language": "pwsh"
    },
    "polyglot_notebook": {
     "kernelName": "pwsh"
    },
    "vscode": {
     "languageId": "polyglot-notebook"
    }
   },
   "outputs": [],
   "source": [
    "Set-StrictMode -Version Latest\n",
    "$ErrorActionPreference = \"Stop\"\n",
    "$VerbosePreference = \"SilentlyContinue\"\n",
    "$InformationPreference = \"Continue\"\n",
    "\n",
    "Set-ExecutionPolicy -ExecutionPolicy RemoteSigned -Scope Process\n",
    "Install-Module -Name Microsoft.Graph -Scope CurrentUser\n",
    "Install-Module -Name Microsoft.Graph.Beta -Scope CurrentUser\n"
   ]
  },
  {
   "cell_type": "markdown",
   "metadata": {},
   "source": [
    "## Create API app registration"
   ]
  },
  {
   "cell_type": "code",
   "execution_count": 11,
   "metadata": {
    "dotnet_interactive": {
     "language": "pwsh"
    },
    "polyglot_notebook": {
     "kernelName": "pwsh"
    },
    "vscode": {
     "languageId": "polyglot-notebook"
    }
   },
   "outputs": [
    {
     "name": "stdout",
     "output_type": "stream",
     "text": [
      "Authenticating....\n",
      "Welcome to Microsoft Graph!\n",
      "\n",
      "Connected via delegated access using 14d82eec-204b-4c2f-b7e8-296a70dab67e\n",
      "Readme: https://aka.ms/graph/sdk/powershell\n",
      "SDK Docs: https://aka.ms/graph/sdk/powershell/docs\n",
      "API Docs: https://aka.ms/graph/docs\n",
      "\n",
      "NOTE: You can use the -NoWelcome parameter to suppress this message.\n",
      "\n",
      "Setting application permission scopes...\n",
      "\u001b[31;1mParentContainsErrorRecordException: \u001b[0m\n",
      "\u001b[31;1m\u001b[36;1mLine |\u001b[0m\n",
      "\u001b[31;1m\u001b[36;1m\u001b[36;1m  34 | \u001b[0m \u001b[36;1m$ownerIds = Get-MgApplicationOwner -ApplicationId $apiApplication.Id \u001b[0m …\u001b[0m\n",
      "\u001b[31;1m\u001b[36;1m\u001b[36;1m\u001b[0m\u001b[36;1m\u001b[0m\u001b[36;1m     | \u001b[31;1m ~~~~~~~~~~~~~~~~~~~~~~~~~~~~~~~~~~~~~~~~~~~~~~~~~~~~~~~~~~~~~~~~~~~~~\u001b[0m\n",
      "\u001b[31;1m\u001b[36;1m\u001b[36;1m\u001b[0m\u001b[36;1m\u001b[0m\u001b[36;1m\u001b[31;1m\u001b[31;1m\u001b[36;1m     | \u001b[31;1mThe property 'Id' cannot be found on this object. Verify that the property exists.\u001b[0m\n"
     ]
    },
    {
     "ename": "Error",
     "evalue": "Command failed: SubmitCode: $apiApplicationDisplayName = \"epizzas-api\" ...",
     "output_type": "error",
     "traceback": [
      "Command failed: SubmitCode: $apiApplicationDisplayName = \"epizzas-api\" ..."
     ]
    }
   ],
   "source": [
    "$apiApplicationDisplayName = \"epizzas-api\"\n",
    "\n",
    "Write-Information \"Authenticating....\"\n",
    "Connect-MgGraph\n",
    "\n",
    "$apiApplication = Get-MgApplication -Filter \"DisplayName eq '$apiApplicationDisplayName'\" -ErrorAction SilentlyContinue\n",
    "if ($null -eq $apiApplication) {\n",
    "    Write-Information \"Creating application $apiApplicationDisplayName\"\n",
    "    $apiApplication = New-MgApplication -DisplayName $apiApplicationDisplayName -SignInAudience \"AzureADMyOrg\"\n",
    "}\n",
    "\n",
    "if ($apiApplication.Api.Oauth2PermissionScopes.Count -eq 0) {\n",
    "    Write-Information \"Setting application permission scopes...\"\n",
    "    $apiApplication = Update-MgApplication -ApplicationId $apiApplication.Id -BodyParameter @{\n",
    "        Api            = @{        \n",
    "            Oauth2PermissionScopes = @(\n",
    "                @{\n",
    "                    AdminConsentDescription = \"Allow the application to access the API on behalf of the signed-in user.\"\n",
    "                    AdminConsentDisplayName = \"Access API\"\n",
    "                    Id                      = \"b73ce2e1-dd44-4cc5-918d-b93b59961d2c\"\n",
    "                    IsEnabled               = $true\n",
    "                    Type                    = \"User\"\n",
    "                    Value                   = \"access_as_user\"\n",
    "                    UserConsentDescription  = \"Allow the application to access the API on your behalf.\"\n",
    "                    UserConsentDisplayName  = \"Access API\"\n",
    "                }\n",
    "            )\n",
    "        }\n",
    "        IdentifierUris = @(\"api://$($apiApplication.AppId)\")\n",
    "    }\n",
    "}\n",
    "\n",
    "$user = Get-MgUser -Filter \"userPrincipalName eq '$((Get-MgContext).Account)'\"\n",
    "$ownerIds = Get-MgApplicationOwner -ApplicationId $apiApplication.Id | Select-Object -ExpandProperty Id\n",
    "if ($ownerIds -notcontains $user.Id) {\n",
    "    Write-Information \"Adding application owner...\"\n",
    "    New-MgApplicationOwnerByRef -ApplicationId $apiApplication.Id -BodyParameter @{\n",
    "        OdataId = \"https://graph.microsoft.com/v1.0/directoryObjects/{$($user.Id)}\"\n",
    "    }\n",
    "}"
   ]
  },
  {
   "cell_type": "markdown",
   "metadata": {},
   "source": [
    "## Get api application information"
   ]
  },
  {
   "cell_type": "code",
   "execution_count": 8,
   "metadata": {
    "dotnet_interactive": {
     "language": "pwsh"
    },
    "polyglot_notebook": {
     "kernelName": "pwsh"
    },
    "vscode": {
     "languageId": "polyglot-notebook"
    }
   },
   "outputs": [
    {
     "name": "stdout",
     "output_type": "stream",
     "text": [
      "{\r\n",
      "  \"TenantId\": \"1c522c6b-bb3b-4eb2-a3ab-21399e001966\",\r\n",
      "  \"Scopes\": \"user_impersonation\",\r\n",
      "  \"ClientId\": \"750bee62-af41-42d5-ab65-a8911c78aac2\"\r\n",
      "}\r\n"
     ]
    },
    {
     "ename": "Error",
     "evalue": "Command failed: SubmitCode: @{ ...",
     "output_type": "error",
     "traceback": [
      "Command failed: SubmitCode: @{ ..."
     ]
    }
   ],
   "source": [
    "@{\n",
    "    TenantId = Get-MgContext | Select-Object -ExpandProperty TenantId\n",
    "    ClientId    = $apiApplication.AppId\n",
    "    Scopes = $apiApplication.Api.Oauth2PermissionScopes.Value\n",
    "} | ConvertTo-Json"
   ]
  }
 ],
 "metadata": {
  "kernelspec": {
   "display_name": ".NET (C#)",
   "language": "C#",
   "name": ".net-csharp"
  },
  "language_info": {
   "name": "csharp"
  },
  "polyglot_notebook": {
   "kernelInfo": {
    "defaultKernelName": "csharp",
    "items": [
     {
      "aliases": [],
      "name": "csharp"
     }
    ]
   }
  }
 },
 "nbformat": 4,
 "nbformat_minor": 2
}
